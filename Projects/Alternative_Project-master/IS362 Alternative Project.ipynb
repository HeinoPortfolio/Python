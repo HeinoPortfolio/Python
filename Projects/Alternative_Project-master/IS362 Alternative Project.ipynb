{
 "cells": [
  {
   "cell_type": "markdown",
   "metadata": {},
   "source": [
    "# IS 362 Alterantive Project - Chess Tournament\n",
    "\n",
    "In this project we are asked to process data from a chess tournament.  The data comes in the form of a crosstable or sometimes referred to as a pivot table.  The table can be found here [Chess Tournament Data](https://github.com/meheino77/Alternative_Project/blob/master/tournamentinfo.txt).  The requirements of the assignment are the following:\n",
    "\n",
    "1. Create a Jupyter Notebook that genereates a CSV that contains the following data:  Player's Name, Player's State, Total Number of Points, Player's Pre-Rating, and Average Pre Tournament Chess Rating.\n",
    "2. Calculate the average opponent rating for each opponent faced for each of the players in the table\n",
    "\n",
    "## Reading in of the table data\n",
    "\n",
    "In order to process the table we need to notice that the table's data for the player is spread over two rows.  Also, we need to realize that the rows are separated by \"-----------\".  We will need to skip over these as well as the first four rows that compose the table header.  The code below shows how this task was accomplished."
   ]
  },
  {
   "cell_type": "code",
   "execution_count": 41,
   "metadata": {},
   "outputs": [],
   "source": [
    "import pandas as pd\n",
    "\n",
    "pd.set_option('display.max_columns', None)\n",
    "pd.set_option('display.width', 1000)\n",
    "\n",
    "player_name = []\n",
    "player_rate = []\n",
    "\n",
    "# create an empty data frame with player data\n",
    "column_names1 = ['Player Number','Player Name', 'Total Points','Round 1', \n",
    "                'Round 2', 'Round 3', 'Round 4','Round 5','Round 6','Round 7' ]\n",
    "\n",
    "column_names2 = ['Player State', 'Pre Rating','Post Rating'] \n",
    "\n",
    "player_data1 = pd.DataFrame(columns=column_names1) \n",
    "player_data2 = pd.DataFrame(columns=column_names2)\n",
    "\n",
    "with open('tournamentinfo.txt') as chess:\n",
    "    \n",
    "    line_count = 1\n",
    "    for _ in range(4):\n",
    "        next(chess)\n",
    "    for chess_line in chess:\n",
    "        if chess_line.startswith(\"-------------\"):\n",
    "            line_count = 1\n",
    "        elif line_count == 1:\n",
    "            #add string to player name\n",
    "            player_name.append(chess_line)\n",
    "            line_count = 2\n",
    "        elif line_count == 2:\n",
    "            player_rate.append(chess_line)\n",
    "            line_count == 1\n",
    "        else:\n",
    "            print(\"ERROR!!!!!\")\n",
    "\n",
    "chess.close()"
   ]
  },
  {
   "cell_type": "markdown",
   "metadata": {},
   "source": [
    "This stores the lines that are read in into a variable called ```player_name```.  This will hold first line of data - players information and opponents faced.  The ```player_rate``` will hold the rating for the player.  \n",
    "## Processing the data in the lines\n",
    "Next we need to process these lines to extract the information from the formatting and other elements that are found in the line.  The first we will process is the player information that is found in the ```player_name```.  If we look at the line structure we can see that the information is found at the same indexes across the row. So we can make use of a slice to retrieve the needed information.  This approach will also be applied to the ```player_rate```. The code to process both the ```player_name``` and ```player_rate``` is shown in the cell below."
   ]
  },
  {
   "cell_type": "code",
   "execution_count": 42,
   "metadata": {},
   "outputs": [],
   "source": [
    "#print the list\n",
    "for pn in player_name:\n",
    "    \n",
    "    player_num = pn[1:6].strip()\n",
    "    player_name = pn[8:40].strip()\n",
    "    total_points = float(pn[41:44])\n",
    "    round1 = pn[48:52].strip()\n",
    "    round2 = pn[54:58].strip()\n",
    "    round3 = pn[60:64].strip()\n",
    "    round4 = pn[66:70].strip()\n",
    "    round5 = pn[72:76].strip()\n",
    "    round6 = pn[78:82].strip()\n",
    "    round7 = pn[84:88].strip()\n",
    "    \n",
    "    # Add to the frame.\n",
    "    player_data1 = player_data1.append({'Player Number': player_num,\n",
    "                                            'Player Name': player_name, \n",
    "                                            'Total Points':total_points,\n",
    "                                            'Round 1': round1,'Round 2': round2,\n",
    "                                            'Round 3': round3,'Round 4': round4,\n",
    "                                            'Round 5': round5,'Round 6': round6,\n",
    "                                            'Round 7': round7}, ignore_index=True)\n",
    "   \n",
    "# process the player state and other needed da\n",
    "for pr in player_rate:\n",
    "    \n",
    "    player_state = pr[1:6]#.strip()\n",
    "    player_prev = pr[22:26]\n",
    "    player_post = pr[31:35]\n",
    "    \n",
    "    player_data2 = player_data2.append({'Player State':player_state,\n",
    "                                        'Pre Rating': player_prev,\n",
    "                                        'Post Rating': player_post}, ignore_index=True)"
   ]
  },
  {
   "cell_type": "markdown",
   "metadata": {},
   "source": [
    "After processing the lines we now have two frames with the data that was extracted.  We need to merge the data into one coherent frame to be processed later.  The code below merges the two frames and output the first 5 rows to confirm that the tables have been successfully merged."
   ]
  },
  {
   "cell_type": "code",
   "execution_count": 43,
   "metadata": {},
   "outputs": [
    {
     "name": "stdout",
     "output_type": "stream",
     "text": [
      "  Player Number      Player Name  Total Points Round 1 Round 2 Round 3 Round 4 Round 5 Round 6 Round 7 Player State Pre Rating Post Rating\n",
      "0             1         GARY HUA           6.0      39      21      18      14       7      12       4          ON        1794        1817\n",
      "1             2  DAKSHESH DARURI           6.0      63      58       4      17      16      20       7          MI        1553        1663\n",
      "2             3     ADITYA BAJAJ           6.0       8      61      25      21      11      13      12          MI        1384        1640\n"
     ]
    }
   ],
   "source": [
    "player_data_all = pd.merge(player_data1, player_data2, right_index=True, left_index=True)\n",
    "\n",
    "print(player_data_all.head(3))"
   ]
  },
  {
   "cell_type": "markdown",
   "metadata": {},
   "source": [
    "In order to facilitate the processing of the player data.  I will extract the player numbers to be able to loop though the data using a **for** loop.  To extract the player number the code is shown below.  The result was stored in a list to allow it to be iterated through."
   ]
  },
  {
   "cell_type": "code",
   "execution_count": 44,
   "metadata": {},
   "outputs": [],
   "source": [
    "# Extract the player numbers.\n",
    "player_num_lst = player_data_all['Player Number'].tolist()"
   ]
  },
  {
   "cell_type": "markdown",
   "metadata": {},
   "source": [
    "## Processing the opponents rating and getting the average\n",
    "\n",
    "In this section we will extract the opponents rating and assign them to a variable and then to a list.  This list ```rating_list``` hold the ratings.  Code to extract the opponent rating is shown below."
   ]
  },
  {
   "cell_type": "code",
   "execution_count": 45,
   "metadata": {},
   "outputs": [],
   "source": [
    "rating_list = []\n",
    "opponent_avg = []\n",
    "\n",
    "for num in player_num_lst:\n",
    "    \n",
    "    #retrieve the opponets for each player\n",
    "    opponents = player_data_all[['Round 1','Round 2', 'Round 3','Round 4','Round 5','Round 6','Round 7']].loc[ player_data_all['Player Number'] == num]\n",
    "    \n",
    "    rat1 =  opponents['Round 1'].values[0]\n",
    "    rat2 =  opponents['Round 2'].values[0]\n",
    "    rat3 =  opponents['Round 3'].values[0]\n",
    "    rat4 =  opponents['Round 4'].values[0]\n",
    "    rat5 =  opponents['Round 5'].values[0]\n",
    "    rat6 =  opponents['Round 6'].values[0]\n",
    "    rat7 =  opponents['Round 7'].values[0]\n",
    "    \n",
    "    if rat1 != \"\":\n",
    "        rating1 = (player_data_all[['Pre Rating']].loc[ player_data_all['Player Number'] \n",
    "        == rat1]).values[0]\n",
    "        rating_list.append(int(rating1))\n",
    "    \n",
    "    if rat2 != \"\":\n",
    "        rating2 = (player_data_all[['Pre Rating']].loc[ player_data_all['Player Number'] \n",
    "        == rat2]).values[0]\n",
    "        rating_list.append(int(rating2))\n",
    "    \n",
    "    if rat3 != \"\":\n",
    "        rating3 = (player_data_all[['Pre Rating']].loc[ player_data_all['Player Number'] \n",
    "        == rat3]).values[0]\n",
    "        rating_list.append(int(rating3))\n",
    "    \n",
    "    if rat4 != \"\":\n",
    "        rating4 = (player_data_all[['Pre Rating']].loc[ player_data_all['Player Number'] \n",
    "        == rat4]).values[0]\n",
    "        rating_list.append(int(rating4))\n",
    "\n",
    "    if rat5 != \"\":\n",
    "        rating5 = (player_data_all[['Pre Rating']].loc[ player_data_all['Player Number'] \n",
    "        == rat5]).values[0]\n",
    "        rating_list.append(int(rating5))\n",
    "        \n",
    "    if rat6 != \"\":\n",
    "        rating6 = (player_data_all[['Pre Rating']].loc[ player_data_all['Player Number'] \n",
    "        == rat6]).values[0]\n",
    "        rating_list.append(int(rating6))\n",
    "        \n",
    "    if rat7 != \"\":\n",
    "        rating7 = (player_data_all[['Pre Rating']].loc[ player_data_all['Player Number'] \n",
    "        == rat7]).values[0]\n",
    "        rating_list.append(int(rating7))\n",
    "    \n",
    "    #Calculate the average of the opponents\n",
    "    average = sum(rating_list) / len(rating_list)\n",
    "    opponent_avg.append(int(average))\n",
    "    \n",
    "    \n",
    "    #clear the list for next interation\n",
    "    rating_list.clear()"
   ]
  },
  {
   "cell_type": "markdown",
   "metadata": {},
   "source": [
    "After each iteration is completed the average is calcuated by the following:\n",
    "\n",
    "``` average = sum(rating_list) / len(rating_list)\n",
    "   opponent_avg.append(int(average)) ```"
   ]
  },
  {
   "cell_type": "markdown",
   "metadata": {},
   "source": [
    "This is result is stored in ```average``` then.  It will be added to the frame using the following code:"
   ]
  },
  {
   "cell_type": "code",
   "execution_count": 46,
   "metadata": {},
   "outputs": [
    {
     "name": "stdout",
     "output_type": "stream",
     "text": [
      "  Player Number          Player Name  Total Points Round 1 Round 2 Round 3 Round 4 Round 5 Round 6 Round 7 Player State Pre Rating Post Rating  Opponent Average\n",
      "0             1             GARY HUA           6.0      39      21      18      14       7      12       4          ON        1794        1817              1605\n",
      "1             2      DAKSHESH DARURI           6.0      63      58       4      17      16      20       7          MI        1553        1663              1469\n",
      "2             3         ADITYA BAJAJ           6.0       8      61      25      21      11      13      12          MI        1384        1640              1563\n",
      "3             4  PATRICK H SCHILLING           5.5      23      28       2      26       5      19       1          MI        1716        1744              1573\n",
      "4             5           HANSHI ZUO           5.5      45      37      12      13       4      14      17          MI        1655        1690              1500\n"
     ]
    }
   ],
   "source": [
    "#add to the data frame\n",
    "player_data_all['Opponent Average'] = opponent_avg\n",
    "\n",
    "print (player_data_all.head())"
   ]
  },
  {
   "cell_type": "markdown",
   "metadata": {},
   "source": [
    "## Cleaning up the frame\n",
    "\n",
    "We need to drop some rows from ```player_data_all``` to meet the assignment specification. So we will drop the rows that are not needed.  These rows are: Round 1, Round 2, Round 3, Round 4, Round 5, Round 6, Round 7, Post Rating. I will also re-order the columns to match the output that is required in the assignment."
   ]
  },
  {
   "cell_type": "code",
   "execution_count": 47,
   "metadata": {},
   "outputs": [
    {
     "name": "stdout",
     "output_type": "stream",
     "text": [
      "  Player Number          Player Name  Total Points Player State Pre Rating  Opponent Average\n",
      "0             1             GARY HUA           6.0          ON        1794              1605\n",
      "1             2      DAKSHESH DARURI           6.0          MI        1553              1469\n",
      "2             3         ADITYA BAJAJ           6.0          MI        1384              1563\n",
      "3             4  PATRICK H SCHILLING           5.5          MI        1716              1573\n",
      "4             5           HANSHI ZUO           5.5          MI        1655              1500\n"
     ]
    }
   ],
   "source": [
    "#Drop the unneeded columns from the frame.\n",
    "player_data_all.drop(['Round 1', 'Round 2', 'Round 3', 'Round 4','Round 5','Round 6','Round 7', 'Post Rating'],\n",
    "                     axis=1, inplace=True)\n",
    "\n",
    "#re-order the columns\n",
    "reorder_col = [\"Player Number\", \"Player Name\", 'Player State', \"Total Points\", \"Prev Rating\", \"Opponent Average\" ]\n",
    "player_data_all.reindex(columns=reorder_col)\n",
    "\n",
    "print (player_data_all.head())"
   ]
  },
  {
   "cell_type": "markdown",
   "metadata": {},
   "source": [
    "## Outputting to a file\n",
    "\n",
    "The final requirement of the assignment was to output the results to a file.  The code below will create a file called \"chess.csv\" "
   ]
  },
  {
   "cell_type": "code",
   "execution_count": 48,
   "metadata": {},
   "outputs": [],
   "source": [
    "#write data to a csv file\n",
    "player_data_all.to_csv(\"chess.csv\", index=False)"
   ]
  },
  {
   "cell_type": "markdown",
   "metadata": {},
   "source": [
    "The output file for the this requirement can be found here [chess.csv](https://github.com/meheino77/Alternative_Project/blob/master/chess.csv) THis final step should complete the requirements for this assignment.  "
   ]
  }
 ],
 "metadata": {
  "kernelspec": {
   "display_name": "Python 3",
   "language": "python",
   "name": "python3"
  },
  "language_info": {
   "codemirror_mode": {
    "name": "ipython",
    "version": 3
   },
   "file_extension": ".py",
   "mimetype": "text/x-python",
   "name": "python",
   "nbconvert_exporter": "python",
   "pygments_lexer": "ipython3",
   "version": "3.7.3"
  }
 },
 "nbformat": 4,
 "nbformat_minor": 2
}
