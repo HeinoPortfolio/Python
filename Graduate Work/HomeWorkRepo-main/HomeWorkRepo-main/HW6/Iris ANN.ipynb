{
 "cells": [
  {
   "cell_type": "code",
   "execution_count": 1,
   "id": "0aeda880",
   "metadata": {},
   "outputs": [
    {
     "ename": "ModuleNotFoundError",
     "evalue": "No module named 'keras'",
     "output_type": "error",
     "traceback": [
      "\u001b[1;31m---------------------------------------------------------------------------\u001b[0m",
      "\u001b[1;31mModuleNotFoundError\u001b[0m                       Traceback (most recent call last)",
      "\u001b[1;32m~\\AppData\\Local\\Temp\\ipykernel_11924\\3463976198.py\u001b[0m in \u001b[0;36m<module>\u001b[1;34m\u001b[0m\n\u001b[0;32m      4\u001b[0m \u001b[1;31m#from keras.models import Sequential\u001b[0m\u001b[1;33m\u001b[0m\u001b[1;33m\u001b[0m\u001b[0m\n\u001b[0;32m      5\u001b[0m \u001b[1;31m#from keras.layers import Dense,Activation,Dropout\u001b[0m\u001b[1;33m\u001b[0m\u001b[1;33m\u001b[0m\u001b[0m\n\u001b[1;32m----> 6\u001b[1;33m \u001b[1;32mfrom\u001b[0m \u001b[0mkeras\u001b[0m\u001b[1;33m.\u001b[0m\u001b[0mutils\u001b[0m \u001b[1;32mimport\u001b[0m \u001b[0mnp_utils\u001b[0m\u001b[1;33m\u001b[0m\u001b[1;33m\u001b[0m\u001b[0m\n\u001b[0m\u001b[0;32m      7\u001b[0m \u001b[1;32mfrom\u001b[0m \u001b[0mwarnings\u001b[0m \u001b[1;32mimport\u001b[0m \u001b[0msimplefilter\u001b[0m\u001b[1;33m\u001b[0m\u001b[1;33m\u001b[0m\u001b[0m\n\u001b[0;32m      8\u001b[0m \u001b[1;33m\u001b[0m\u001b[0m\n",
      "\u001b[1;31mModuleNotFoundError\u001b[0m: No module named 'keras'"
     ]
    }
   ],
   "source": [
    "import pandas as pd\n",
    "import numpy as np\n",
    "from sklearn.preprocessing import  normalize\n",
    "#from keras.models import Sequential\n",
    "#from keras.layers import Dense,Activation,Dropout\n",
    "from keras.utils import np_utils\n",
    "from warnings import simplefilter\n",
    "\n",
    "simplefilter(action='ignore', category=FutureWarning)"
   ]
  },
  {
   "cell_type": "code",
   "execution_count": null,
   "id": "93474bb3",
   "metadata": {},
   "outputs": [],
   "source": [
    "# Load the data from the CSV file\n",
    "iris_df = pd.read_excel('Week_06_HW6_Iris_Dataset.xlsx')\n",
    "iris_df.head()"
   ]
  },
  {
   "cell_type": "code",
   "execution_count": null,
   "id": "bb60a526",
   "metadata": {},
   "outputs": [],
   "source": [
    "# get some data about the file\n",
    "iris_df.info()\n"
   ]
  },
  {
   "cell_type": "code",
   "execution_count": null,
   "id": "3789e0ee",
   "metadata": {},
   "outputs": [],
   "source": [
    "# Drop the Sample numbe ID from the frame\n",
    "iris_df.drop(['sampleNum'], axis=1, inplace=True)\n",
    "iris_df.head()"
   ]
  },
  {
   "cell_type": "code",
   "execution_count": null,
   "id": "d7fbf869",
   "metadata": {},
   "outputs": [],
   "source": [
    "# Replace species category with a number.\n",
    "iris_df['irisSpecies'].replace(['Iris-setosa','Iris-versicolor'], [1,0], inplace=True)\n",
    "iris_df.head()"
   ]
  },
  {
   "cell_type": "code",
   "execution_count": null,
   "id": "01744733",
   "metadata": {},
   "outputs": [],
   "source": [
    "#see if there is a correation\n",
    "iris_df.corr()"
   ]
  },
  {
   "cell_type": "code",
   "execution_count": null,
   "id": "e48cfaab",
   "metadata": {},
   "outputs": [],
   "source": [
    "#Tried a different ways.\n",
    "feature_columns = ['sepalWidth', 'petalWidth']\n",
    "#feature_columns = ['sepalWidth']\n",
    "#feature_columns = ['petalWidth']\n",
    "X_ind =iris_df[feature_columns].values\n",
    "Y_dep = iris_df['irisSpecies'].values\n",
    "print(\"Shape of X: \", X_ind.shape)\n",
    "print(\"Shape of Y: \", Y_dep.shape)"
   ]
  },
  {
   "cell_type": "code",
   "execution_count": null,
   "id": "4725d72c",
   "metadata": {},
   "outputs": [],
   "source": [
    "#Try a little data normalization of the data.\n",
    "X_normalized=normalize(X_ind,axis=0)\n",
    "print(\"Examples of X_normalised\\n\", X_normalized[:3])"
   ]
  },
  {
   "cell_type": "code",
   "execution_count": null,
   "id": "76b99c4d",
   "metadata": {},
   "outputs": [],
   "source": [
    "# create the training, test and the validation datasets.\n",
    "# A different way of doing things.\n",
    "\n",
    "tot_len = len(iris_df)\n",
    "train_len = int(0.8*tot_len)\n",
    "test_len = int(0.2*tot_len)\n",
    "\n",
    "print(\"\\nTotal length: \", tot_len)\n",
    "print(\"Train length: \", train_len)\n",
    "print(\"Test length: \", test_len)"
   ]
  },
  {
   "cell_type": "code",
   "execution_count": null,
   "id": "88949a6c",
   "metadata": {},
   "outputs": [],
   "source": [
    "#Create the X training and X test sets.\n",
    "X_train = X_normalized[ :train_len]\n",
    "X_test = X_normalized[train_len: ]\n",
    "\n",
    "print(\"\\nX train length: \", len(X_train))\n",
    "print(\"X test length: \", len(X_test))"
   ]
  },
  {
   "cell_type": "code",
   "execution_count": null,
   "id": "493d6096",
   "metadata": {},
   "outputs": [],
   "source": [
    "#Create the Y training and Y test sets.\n",
    "Y_train = Y_dep[ :train_len]\n",
    "Y_test = Y_dep[train_len: ]\n",
    "\n",
    "print(\"\\nY train length: \", len(Y_train))\n",
    "print(\"Y test length: \", len(Y_test))"
   ]
  },
  {
   "cell_type": "code",
   "execution_count": null,
   "id": "11cc1c48",
   "metadata": {},
   "outputs": [],
   "source": [
    "#Change the label of the target array from string to integer\n",
    "Y_train = np_utils.to_categorical(Y_train, num_classes=3)\n",
    "Y_test = np_utils.to_categorical(Y_test, num_classes=3)\n",
    "\n",
    "print(\"Shape of Y Train: \", Y_train.shape)\n",
    "print(\"Shape of Y Test: \", Y_test.shape)"
   ]
  },
  {
   "cell_type": "code",
   "execution_count": null,
   "id": "39142c11",
   "metadata": {},
   "outputs": [],
   "source": [
    "seq_model.fit(X_train, Y_train, validation_data=(X_test, Y_test), batch_size=10, epochs=5, verbose=1)\n",
    "\n",
    "prediction = seq_model.predict(X_test)\n",
    "length = len(prediction)\n",
    "y_label = np.argmax(Y_test, axis=1)\n",
    "predict_label = np.argmax(prediction, axis=1)\n",
    "\n",
    "accuracy=np.sum(y_label == predict_label)/length * 100\n",
    "print(\"Accuracy of the dataset\", accuracy)"
   ]
  }
 ],
 "metadata": {
  "kernelspec": {
   "display_name": "Python 3 (ipykernel)",
   "language": "python",
   "name": "python3"
  },
  "language_info": {
   "codemirror_mode": {
    "name": "ipython",
    "version": 3
   },
   "file_extension": ".py",
   "mimetype": "text/x-python",
   "name": "python",
   "nbconvert_exporter": "python",
   "pygments_lexer": "ipython3",
   "version": "3.9.13"
  }
 },
 "nbformat": 4,
 "nbformat_minor": 5
}
