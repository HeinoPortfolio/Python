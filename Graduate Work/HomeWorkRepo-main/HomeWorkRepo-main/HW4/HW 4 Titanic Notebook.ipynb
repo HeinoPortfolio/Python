{
 "cells": [
  {
   "cell_type": "markdown",
   "id": "bffeed8e",
   "metadata": {},
   "source": [
    "# Introduction\n",
    "This is an assignment for data cleaning and a little ETL for the Titanic data set.  The data  set used in this assignment was provided by the instructor. The requirements of the assignmet required the data set to be cleaned and "
   ]
  },
  {
   "cell_type": "code",
   "execution_count": 1,
   "id": "14f63f36",
   "metadata": {},
   "outputs": [],
   "source": [
    "import numpy as np\n",
    "import pandas as pd\n",
    "import matplotlib.pyplot as plt\n",
    "import seaborn as sns"
   ]
  },
  {
   "cell_type": "code",
   "execution_count": 2,
   "id": "cd7f9d8c",
   "metadata": {},
   "outputs": [
    {
     "name": "stdout",
     "output_type": "stream",
     "text": [
      "  Survived Passenger Class                            Name     Sex      Age  \\\n",
      "0      Yes           First   Allen, Miss. Elisabeth Walton  Female  29.0000   \n",
      "1      Yes           First  Allison, Master. Hudson Trevor    Male   0.9167   \n",
      "\n",
      "   No of Siblings or Spouses on Board  No of Parents or Children on Board  \\\n",
      "0                                   0                                   0   \n",
      "1                                   1                                   2   \n",
      "\n",
      "  Ticket Number  Passenger Fare    Cabin Port of Embarkation Life Boat  \n",
      "0         24160        211.3375       B5         Southampton         2  \n",
      "1        113781        151.5500  C22 C26         Southampton        11  \n"
     ]
    }
   ],
   "source": [
    "titanic_df = pd.read_excel('Week_04_HW4_Titanic_Data.xls')\n",
    "print(titanic_df.head(2))"
   ]
  },
  {
   "cell_type": "markdown",
   "id": "20e2c4d9",
   "metadata": {},
   "source": [
    "# Show some descriptive info about the data \n",
    "This code displays some data about the file the column names and the data types of the data that are stored in the columns.  The length of the dataframe will also be displayed."
   ]
  },
  {
   "cell_type": "code",
   "execution_count": 3,
   "id": "beda3e8d",
   "metadata": {},
   "outputs": [
    {
     "name": "stdout",
     "output_type": "stream",
     "text": [
      "<class 'pandas.core.frame.DataFrame'>\n",
      "RangeIndex: 1309 entries, 0 to 1308\n",
      "Data columns (total 12 columns):\n",
      " #   Column                              Non-Null Count  Dtype  \n",
      "---  ------                              --------------  -----  \n",
      " 0   Survived                            1309 non-null   object \n",
      " 1   Passenger Class                     1309 non-null   object \n",
      " 2   Name                                1309 non-null   object \n",
      " 3   Sex                                 1309 non-null   object \n",
      " 4   Age                                 1046 non-null   float64\n",
      " 5   No of Siblings or Spouses on Board  1309 non-null   int64  \n",
      " 6   No of Parents or Children on Board  1309 non-null   int64  \n",
      " 7   Ticket Number                       1309 non-null   object \n",
      " 8   Passenger Fare                      1308 non-null   float64\n",
      " 9   Cabin                               295 non-null    object \n",
      " 10  Port of Embarkation                 1307 non-null   object \n",
      " 11  Life Boat                           486 non-null    object \n",
      "dtypes: float64(2), int64(2), object(8)\n",
      "memory usage: 122.8+ KB\n"
     ]
    },
    {
     "data": {
      "text/plain": [
       "1309"
      ]
     },
     "execution_count": 3,
     "metadata": {},
     "output_type": "execute_result"
    }
   ],
   "source": [
    "titanic_df.info()   # info about the contents of the dataframe\n",
    "len(titanic_df)     # Show the length of the dataframe  "
   ]
  },
  {
   "cell_type": "markdown",
   "id": "8a99dae6",
   "metadata": {},
   "source": [
    "# Does the file contain empty values?\n",
    "We look to see which of the columns do not have any data associated with the column or feature of the data set."
   ]
  },
  {
   "cell_type": "code",
   "execution_count": 4,
   "id": "da4a7902",
   "metadata": {},
   "outputs": [
    {
     "data": {
      "text/plain": [
       "Survived                                 0\n",
       "Passenger Class                          0\n",
       "Name                                     0\n",
       "Sex                                      0\n",
       "Age                                    263\n",
       "No of Siblings or Spouses on Board       0\n",
       "No of Parents or Children on Board       0\n",
       "Ticket Number                            0\n",
       "Passenger Fare                           1\n",
       "Cabin                                 1014\n",
       "Port of Embarkation                      2\n",
       "Life Boat                              823\n",
       "dtype: int64"
      ]
     },
     "execution_count": 4,
     "metadata": {},
     "output_type": "execute_result"
    }
   ],
   "source": [
    "#nan_titanic_sr = titanic_df.isna().sum()\n",
    "titanic_df.isna().sum()"
   ]
  },
  {
   "cell_type": "markdown",
   "id": "3be56286",
   "metadata": {},
   "source": [
    "This files has no values for Age, Cabin, and Lifeboat.  These values will need to be looked into.  Some can be left alone but  the age may be changed to help with applications and predictions of future events.\n",
    "# Copy of the orginal dataframe\n",
    "We will create a copy of the orginal dataframe so we can process and clean this set of data.  We will drop the rows in the Age column that do not have any values. We can drop the other rows that do not not contain the data but this is not needed at this point."
   ]
  },
  {
   "cell_type": "code",
   "execution_count": 5,
   "id": "cfbc07ca",
   "metadata": {},
   "outputs": [
    {
     "data": {
      "text/plain": [
       "1309"
      ]
     },
     "execution_count": 5,
     "metadata": {},
     "output_type": "execute_result"
    }
   ],
   "source": [
    "#Copy the orginal Titanic dataframe\n",
    "copy_titanic_df = titanic_df.copy(deep=True)\n",
    "copy_titanic_df.head(2) # print the copy to see if it exists\n",
    "len(copy_titanic_df)"
   ]
  },
  {
   "cell_type": "markdown",
   "id": "089e0367",
   "metadata": {},
   "source": [
    "We will show the number of items in the dataframe both before and after the dropping of the Age rows that contain no informantion(NaN).  "
   ]
  },
  {
   "cell_type": "code",
   "execution_count": 6,
   "id": "7ab504e3",
   "metadata": {},
   "outputs": [
    {
     "name": "stdout",
     "output_type": "stream",
     "text": [
      "Length after drop:  1046\n",
      "After drop: Survived                                0\n",
      "Passenger Class                         0\n",
      "Name                                    0\n",
      "Sex                                     0\n",
      "Age                                     0\n",
      "No of Siblings or Spouses on Board      0\n",
      "No of Parents or Children on Board      0\n",
      "Ticket Number                           0\n",
      "Passenger Fare                          1\n",
      "Cabin                                 774\n",
      "Port of Embarkation                     2\n",
      "Life Boat                             629\n",
      "dtype: int64\n"
     ]
    }
   ],
   "source": [
    "copy_titanic_df.dropna(subset=['Age'], inplace=True)\n",
    "print(\"Length after drop: \",len(copy_titanic_df))\n",
    "print(\"After drop:\", copy_titanic_df.isna().sum())"
   ]
  },
  {
   "cell_type": "markdown",
   "id": "4609c93f",
   "metadata": {},
   "source": [
    "After the drop there are 1046 which is to be expected after dropping the 263 rows from the dataframe.\n",
    "After this drop we can do calculations based on the data that would require the Age data. We can handle the data rows that did not have this data by doing additional research and adding this data to the rows.\n",
    "# Split the dataframe \n",
    "We can split the dataframe into different files based on class so that we can look at each group separately, if we choose to do so.  The code below "
   ]
  },
  {
   "cell_type": "code",
   "execution_count": 7,
   "id": "ac6716bf",
   "metadata": {},
   "outputs": [
    {
     "name": "stdout",
     "output_type": "stream",
     "text": [
      "First \n",
      "   Survived Passenger Class                            Name     Sex      Age  \\\n",
      "0      Yes           First   Allen, Miss. Elisabeth Walton  Female  29.0000   \n",
      "1      Yes           First  Allison, Master. Hudson Trevor    Male   0.9167   \n",
      "\n",
      "   No of Siblings or Spouses on Board  No of Parents or Children on Board  \\\n",
      "0                                   0                                   0   \n",
      "1                                   1                                   2   \n",
      "\n",
      "  Ticket Number  Passenger Fare    Cabin Port of Embarkation Life Boat  \n",
      "0         24160        211.3375       B5         Southampton         2  \n",
      "1        113781        151.5500  C22 C26         Southampton        11  \n",
      "Total First Class:  284\n",
      "\n",
      "Second \n",
      "     Survived Passenger Class                                   Name     Sex  \\\n",
      "323       No          Second                    Abelson, Mr. Samuel    Male   \n",
      "324      Yes          Second  Abelson, Mrs. Samuel (Hannah Wizosky)  Female   \n",
      "\n",
      "      Age  No of Siblings or Spouses on Board  \\\n",
      "323  30.0                                   1   \n",
      "324  28.0                                   1   \n",
      "\n",
      "     No of Parents or Children on Board Ticket Number  Passenger Fare Cabin  \\\n",
      "323                                   0     P/PP 3381            24.0   NaN   \n",
      "324                                   0     P/PP 3381            24.0   NaN   \n",
      "\n",
      "    Port of Embarkation Life Boat  \n",
      "323           Cherbourg       NaN  \n",
      "324           Cherbourg        10  \n",
      "Total Second Class:  261\n",
      "    Survived Passenger Class                           Name   Sex   Age  \\\n",
      "600       No           Third            Abbing, Mr. Anthony  Male  42.0   \n",
      "601       No           Third  Abbott, Master. Eugene Joseph  Male  13.0   \n",
      "\n",
      "     No of Siblings or Spouses on Board  No of Parents or Children on Board  \\\n",
      "600                                   0                                   0   \n",
      "601                                   0                                   2   \n",
      "\n",
      "    Ticket Number  Passenger Fare Cabin Port of Embarkation Life Boat  \n",
      "600     C.A. 5547            7.55   NaN         Southampton       NaN  \n",
      "601     C.A. 2673           20.25   NaN         Southampton       NaN  \n",
      "Total Third Class:  501\n"
     ]
    }
   ],
   "source": [
    "#Create the first class dataframe\n",
    "first_class_df = copy_titanic_df[copy_titanic_df[\"Passenger Class\"] == 'First']\n",
    "print(\"First \\n\", first_class_df.head(2))\n",
    "print(\"Total First Class: \",len(first_class_df))\n",
    "\n",
    "#Create the second class dataframe\n",
    "second_class_df = copy_titanic_df[copy_titanic_df[\"Passenger Class\"] == 'Second']\n",
    "print(\"\\nSecond \\n\",second_class_df.head(2)) \n",
    "print(\"Total Second Class: \",len(second_class_df))\n",
    "\n",
    "#Create third class dataframe\n",
    "third_class_df = copy_titanic_df[copy_titanic_df[\"Passenger Class\"] == 'Third']\n",
    "\n",
    "print(third_class_df.head(2)) \n",
    "print(\"Total Third Class: \",len(third_class_df))\n"
   ]
  },
  {
   "cell_type": "markdown",
   "id": "857420a0",
   "metadata": {},
   "source": [
    "To make sure that all the passengers are have been inserted into the appropriate data frame we can look at the lengths of the dataframe."
   ]
  },
  {
   "cell_type": "code",
   "execution_count": 8,
   "id": "f68a57f5",
   "metadata": {},
   "outputs": [
    {
     "name": "stdout",
     "output_type": "stream",
     "text": [
      "Total from COPY:  1046\n",
      "Total from First:  284\n",
      "Total from SECOND:  261\n",
      "Total from THIRD:  501\n",
      "Total is :  1046\n"
     ]
    }
   ],
   "source": [
    "#Output the length of the dataframes and the  total of all dataframes\n",
    "print(\"Total from COPY: \", len(copy_titanic_df))\n",
    "print(\"Total from First: \", len(first_class_df))\n",
    "print(\"Total from SECOND: \", len(second_class_df))\n",
    "print(\"Total from THIRD: \", len(third_class_df))\n",
    "total = len(first_class_df) +  len(second_class_df) +len(third_class_df)\n",
    "print(\"Total is : \", total)"
   ]
  },
  {
   "cell_type": "markdown",
   "id": "7d4dc1a6",
   "metadata": {},
   "source": [
    "# Export for future use.\n",
    "Export the dataframes based on passenger class to a Excel file for later use. \n"
   ]
  },
  {
   "cell_type": "code",
   "execution_count": 9,
   "id": "b87155a6",
   "metadata": {},
   "outputs": [],
   "source": [
    "# Export the partitioned data to Excel file.\n",
    "#first_class_df.to_excel(r'first_class.xlsx', index=False)\n",
    "#second_class_df.to_excel(r'second_class.xlsx', index=False)\n",
    "#third_class_df.to_excel(r'third_class.xlsx', index=False)"
   ]
  }
 ],
 "metadata": {
  "kernelspec": {
   "display_name": "Python 3 (ipykernel)",
   "language": "python",
   "name": "python3"
  },
  "language_info": {
   "codemirror_mode": {
    "name": "ipython",
    "version": 3
   },
   "file_extension": ".py",
   "mimetype": "text/x-python",
   "name": "python",
   "nbconvert_exporter": "python",
   "pygments_lexer": "ipython3",
   "version": "3.9.13"
  }
 },
 "nbformat": 4,
 "nbformat_minor": 5
}
