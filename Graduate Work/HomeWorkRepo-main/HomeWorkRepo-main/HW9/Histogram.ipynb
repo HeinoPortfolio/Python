{
 "cells": [
  {
   "cell_type": "markdown",
   "id": "7c6f36a7",
   "metadata": {},
   "source": [
    "# Homework 9 Create Visualizations \n",
    "\n",
    "This notebook creates a  histogramt from the Titanic dataset that was given during Homework 4. This dataset has data about the passengers that were onboard the Titanic. This notebook with plot a line plot that looks for the the relationship between the variables.\n",
    "\n",
    "The code belows creates a simple histogram of one of the features from the Titanic dataset.  These feature was Age."
   ]
  },
  {
   "cell_type": "code",
   "execution_count": 1,
   "id": "465745c7",
   "metadata": {},
   "outputs": [],
   "source": [
    "import matplotlib.pyplot as plt\n",
    "import pandas as pd\n",
    "#import seaborn as sns\n",
    "import warnings\n",
    "\n",
    "warnings.filterwarnings('ignore')\n"
   ]
  },
  {
   "cell_type": "markdown",
   "id": "278a2e64",
   "metadata": {},
   "source": [
    "# Read the fate from the Excel file inot a dataframe."
   ]
  },
  {
   "cell_type": "code",
   "execution_count": 2,
   "id": "4d03f416",
   "metadata": {},
   "outputs": [],
   "source": [
    "titanic_df = pd.read_excel('Titanic_Data.xls')"
   ]
  },
  {
   "cell_type": "markdown",
   "id": "ff0c1c5a",
   "metadata": {},
   "source": [
    "# Review the data that is in the frame."
   ]
  },
  {
   "cell_type": "code",
   "execution_count": 3,
   "id": "586c3b39",
   "metadata": {},
   "outputs": [
    {
     "name": "stdout",
     "output_type": "stream",
     "text": [
      "<class 'pandas.core.frame.DataFrame'>\n",
      "RangeIndex: 1309 entries, 0 to 1308\n",
      "Data columns (total 12 columns):\n",
      " #   Column                              Non-Null Count  Dtype  \n",
      "---  ------                              --------------  -----  \n",
      " 0   Survived                            1309 non-null   object \n",
      " 1   Passenger Class                     1309 non-null   object \n",
      " 2   Name                                1309 non-null   object \n",
      " 3   Sex                                 1309 non-null   object \n",
      " 4   Age                                 1046 non-null   float64\n",
      " 5   No of Siblings or Spouses on Board  1309 non-null   int64  \n",
      " 6   No of Parents or Children on Board  1309 non-null   int64  \n",
      " 7   Ticket Number                       1309 non-null   object \n",
      " 8   Passenger Fare                      1308 non-null   float64\n",
      " 9   Cabin                               295 non-null    object \n",
      " 10  Port of Embarkation                 1307 non-null   object \n",
      " 11  Life Boat                           486 non-null    object \n",
      "dtypes: float64(2), int64(2), object(8)\n",
      "memory usage: 122.8+ KB\n"
     ]
    }
   ],
   "source": [
    "#Review the data that is in the frame.\n",
    "titanic_df.head(5)\n",
    "titanic_df.info()"
   ]
  },
  {
   "cell_type": "markdown",
   "id": "a91fc752",
   "metadata": {},
   "source": [
    "# Create the frame that will have the feature for the histogram."
   ]
  },
  {
   "cell_type": "code",
   "execution_count": 4,
   "id": "e033619c",
   "metadata": {},
   "outputs": [],
   "source": [
    "columns_needed = [\"Age\"]\n",
    "hist_plot_df = titanic_df[columns_needed]\n",
    "hist_plot_df.dropna(subset=[\"Age\"], inplace=True)"
   ]
  },
  {
   "cell_type": "markdown",
   "id": "24571976",
   "metadata": {},
   "source": [
    "# Create the graph for the histogram."
   ]
  },
  {
   "cell_type": "code",
   "execution_count": 5,
   "id": "a037804f",
   "metadata": {},
   "outputs": [
    {
     "data": {
      "text/plain": [
       "Text(0.5, 0, 'Age (in Years)')"
      ]
     },
     "execution_count": 5,
     "metadata": {},
     "output_type": "execute_result"
    },
    {
     "data": {
      "image/png": "[encoded data removed]",
      "text/plain": [
       "<Figure size 640x480 with 1 Axes>"
      ]
     },
     "metadata": {},
     "output_type": "display_data"
    }
   ],
   "source": [
    "plt.hist(hist_plot_df)\n",
    "plt.axvline(hist_plot_df.Age.mean(), color='k', linestyle='dashed', linewidth = 1)\n",
    "plt.title('Ages of Passengers on Titanic')\n",
    "plt.ylabel('Count')\n",
    "plt.xlabel('Age (in Years)')"
   ]
  }
 ],
 "metadata": {
  "kernelspec": {
   "display_name": "Python 3 (ipykernel)",
   "language": "python",
   "name": "python3"
  },
  "language_info": {
   "codemirror_mode": {
    "name": "ipython",
    "version": 3
   },
   "file_extension": ".py",
   "mimetype": "text/x-python",
   "name": "python",
   "nbconvert_exporter": "python",
   "pygments_lexer": "ipython3",
   "version": "3.9.16"
  }
 },
 "nbformat": 4,
 "nbformat_minor": 5
}
