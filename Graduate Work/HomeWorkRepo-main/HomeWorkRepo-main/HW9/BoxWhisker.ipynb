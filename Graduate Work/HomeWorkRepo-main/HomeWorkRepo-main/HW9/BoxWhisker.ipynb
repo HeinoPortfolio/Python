{
 "cells": [
  {
   "cell_type": "markdown",
   "id": "474535b2",
   "metadata": {},
   "source": [
    "# Homework 9 Create Visualizations \n",
    "\n",
    "This notebook creates a box and whisker from the Titanic dataset that was given during Homework 4. This dataset has data about the passengers that were onboard the Titanic. This notebook with plot a box and whisker that looks for the the relationship between the variables.\n",
    "\n",
    "The code belows creates a simple box and whisker of one of the features from the Titanic dataset.  These feature was Age."
   ]
  },
  {
   "cell_type": "code",
   "execution_count": 1,
   "id": "dde9efcf",
   "metadata": {},
   "outputs": [],
   "source": [
    "import matplotlib.pyplot as plt\n",
    "import pandas as pd\n",
    "import warnings\n",
    "\n",
    "warnings.filterwarnings('ignore')\n"
   ]
  },
  {
   "cell_type": "markdown",
   "id": "df7d72ee",
   "metadata": {},
   "source": [
    "# Read the fate from the Excel file inot a dataframe."
   ]
  },
  {
   "cell_type": "code",
   "execution_count": 2,
   "id": "6bd7c889",
   "metadata": {},
   "outputs": [],
   "source": [
    "titanic_df = pd.read_excel('Titanic_Data.xls')"
   ]
  },
  {
   "cell_type": "markdown",
   "id": "125d0e36",
   "metadata": {},
   "source": [
    "# Review the data that is in the frame."
   ]
  },
  {
   "cell_type": "code",
   "execution_count": 3,
   "id": "6af8be91",
   "metadata": {},
   "outputs": [
    {
     "name": "stdout",
     "output_type": "stream",
     "text": [
      "<class 'pandas.core.frame.DataFrame'>\n",
      "RangeIndex: 1309 entries, 0 to 1308\n",
      "Data columns (total 12 columns):\n",
      " #   Column                              Non-Null Count  Dtype  \n",
      "---  ------                              --------------  -----  \n",
      " 0   Survived                            1309 non-null   object \n",
      " 1   Passenger Class                     1309 non-null   object \n",
      " 2   Name                                1309 non-null   object \n",
      " 3   Sex                                 1309 non-null   object \n",
      " 4   Age                                 1046 non-null   float64\n",
      " 5   No of Siblings or Spouses on Board  1309 non-null   int64  \n",
      " 6   No of Parents or Children on Board  1309 non-null   int64  \n",
      " 7   Ticket Number                       1309 non-null   object \n",
      " 8   Passenger Fare                      1308 non-null   float64\n",
      " 9   Cabin                               295 non-null    object \n",
      " 10  Port of Embarkation                 1307 non-null   object \n",
      " 11  Life Boat                           486 non-null    object \n",
      "dtypes: float64(2), int64(2), object(8)\n",
      "memory usage: 122.8+ KB\n"
     ]
    }
   ],
   "source": [
    "titanic_df.head(5)\n",
    "titanic_df.info()"
   ]
  },
  {
   "cell_type": "markdown",
   "id": "b877cb85",
   "metadata": {},
   "source": [
    "# Create the frame that will have the features forthe bow and whisker."
   ]
  },
  {
   "cell_type": "code",
   "execution_count": 4,
   "id": "9f03cb66",
   "metadata": {},
   "outputs": [],
   "source": [
    "columns_needed = [\"Age\"]\n",
    "box_plot_df = titanic_df[columns_needed]\n",
    "box_plot_df.dropna(subset=[\"Age\"], inplace=True)"
   ]
  },
  {
   "cell_type": "markdown",
   "id": "92f6edf5",
   "metadata": {},
   "source": [
    "# Create the box and whisker plot."
   ]
  },
  {
   "cell_type": "code",
   "execution_count": 5,
   "id": "1ddab60c",
   "metadata": {},
   "outputs": [
    {
     "data": {
      "image/png": "[encoded data removed]",
      "text/plain": [
       "<Figure size 640x480 with 1 Axes>"
      ]
     },
     "metadata": {},
     "output_type": "display_data"
    }
   ],
   "source": [
    "plt.boxplot(box_plot_df, whis=1, labels= ['Age'])\n",
    "plt.title(\"Titanic Passenger's Age\")\n",
    "plt.show()"
   ]
  }
 ],
 "metadata": {
  "kernelspec": {
   "display_name": "Python 3 (ipykernel)",
   "language": "python",
   "name": "python3"
  },
  "language_info": {
   "codemirror_mode": {
    "name": "ipython",
    "version": 3
   },
   "file_extension": ".py",
   "mimetype": "text/x-python",
   "name": "python",
   "nbconvert_exporter": "python",
   "pygments_lexer": "ipython3",
   "version": "3.9.16"
  }
 },
 "nbformat": 4,
 "nbformat_minor": 5
}
