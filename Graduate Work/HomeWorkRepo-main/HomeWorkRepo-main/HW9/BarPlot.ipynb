{
 "cells": [
  {
   "cell_type": "markdown",
   "id": "65fe1f90",
   "metadata": {},
   "source": [
    "# Homework 9 Create Visualizations \n",
    "\n",
    "This notebook creates a  barplot from the Titanic dataset that was given during Homework 4. This dataset has data about the passengers that were onboard the Titanic. This notebook with plot a line plot that looks for the the relationship between the variables.\n",
    "\n",
    "The code belows creates a simple line plot of three features from the Titanic dataset.  These features are Sex, survived, Passenger Class to give the hue of the grap/plot."
   ]
  },
  {
   "cell_type": "code",
   "execution_count": 1,
   "id": "8192bd9c",
   "metadata": {},
   "outputs": [],
   "source": [
    "import matplotlib.pyplot as plt\n",
    "import pandas as pd\n",
    "import seaborn as sns\n",
    "import warnings\n",
    "\n",
    "warnings.filterwarnings('ignore')"
   ]
  },
  {
   "cell_type": "markdown",
   "id": "8b4df0dd",
   "metadata": {},
   "source": [
    "# Read the fate from the Excel file inot a dataframe."
   ]
  },
  {
   "cell_type": "code",
   "execution_count": 2,
   "id": "803606cf",
   "metadata": {},
   "outputs": [],
   "source": [
    "# Read the fate from the Excel file inot a dataframe.\n",
    "titanic_df = pd.read_excel('Titanic_Data.xls')"
   ]
  },
  {
   "cell_type": "markdown",
   "id": "cc382372",
   "metadata": {},
   "source": [
    "# Review the data that is in the frame."
   ]
  },
  {
   "cell_type": "code",
   "execution_count": 3,
   "id": "1c99db36",
   "metadata": {},
   "outputs": [
    {
     "name": "stdout",
     "output_type": "stream",
     "text": [
      "<class 'pandas.core.frame.DataFrame'>\n",
      "RangeIndex: 1309 entries, 0 to 1308\n",
      "Data columns (total 12 columns):\n",
      " #   Column                              Non-Null Count  Dtype  \n",
      "---  ------                              --------------  -----  \n",
      " 0   Survived                            1309 non-null   object \n",
      " 1   Passenger Class                     1309 non-null   object \n",
      " 2   Name                                1309 non-null   object \n",
      " 3   Sex                                 1309 non-null   object \n",
      " 4   Age                                 1046 non-null   float64\n",
      " 5   No of Siblings or Spouses on Board  1309 non-null   int64  \n",
      " 6   No of Parents or Children on Board  1309 non-null   int64  \n",
      " 7   Ticket Number                       1309 non-null   object \n",
      " 8   Passenger Fare                      1308 non-null   float64\n",
      " 9   Cabin                               295 non-null    object \n",
      " 10  Port of Embarkation                 1307 non-null   object \n",
      " 11  Life Boat                           486 non-null    object \n",
      "dtypes: float64(2), int64(2), object(8)\n",
      "memory usage: 122.8+ KB\n"
     ]
    }
   ],
   "source": [
    "titanic_df.head(5)\n",
    "titanic_df.info()"
   ]
  },
  {
   "cell_type": "markdown",
   "id": "50a4af9a",
   "metadata": {},
   "source": [
    "# Create the frame that will have the features for the barplot."
   ]
  },
  {
   "cell_type": "code",
   "execution_count": 4,
   "id": "60c15dff",
   "metadata": {},
   "outputs": [
    {
     "data": {
      "text/html": [
       "<div>\n",
       "<style scoped>\n",
       "    .dataframe tbody tr th:only-of-type {\n",
       "        vertical-align: middle;\n",
       "    }\n",
       "\n",
       "    .dataframe tbody tr th {\n",
       "        vertical-align: top;\n",
       "    }\n",
       "\n",
       "    .dataframe thead th {\n",
       "        text-align: right;\n",
       "    }\n",
       "</style>\n",
       "<table border=\"1\" class=\"dataframe\">\n",
       "  <thead>\n",
       "    <tr style=\"text-align: right;\">\n",
       "      <th></th>\n",
       "      <th>Sex</th>\n",
       "      <th>Survived</th>\n",
       "      <th>Passenger Class</th>\n",
       "    </tr>\n",
       "  </thead>\n",
       "  <tbody>\n",
       "    <tr>\n",
       "      <th>0</th>\n",
       "      <td>Female</td>\n",
       "      <td>1</td>\n",
       "      <td>First</td>\n",
       "    </tr>\n",
       "    <tr>\n",
       "      <th>1</th>\n",
       "      <td>Male</td>\n",
       "      <td>1</td>\n",
       "      <td>First</td>\n",
       "    </tr>\n",
       "    <tr>\n",
       "      <th>2</th>\n",
       "      <td>Female</td>\n",
       "      <td>0</td>\n",
       "      <td>First</td>\n",
       "    </tr>\n",
       "    <tr>\n",
       "      <th>3</th>\n",
       "      <td>Male</td>\n",
       "      <td>0</td>\n",
       "      <td>First</td>\n",
       "    </tr>\n",
       "    <tr>\n",
       "      <th>4</th>\n",
       "      <td>Female</td>\n",
       "      <td>0</td>\n",
       "      <td>First</td>\n",
       "    </tr>\n",
       "    <tr>\n",
       "      <th>...</th>\n",
       "      <td>...</td>\n",
       "      <td>...</td>\n",
       "      <td>...</td>\n",
       "    </tr>\n",
       "    <tr>\n",
       "      <th>1304</th>\n",
       "      <td>Female</td>\n",
       "      <td>0</td>\n",
       "      <td>Third</td>\n",
       "    </tr>\n",
       "    <tr>\n",
       "      <th>1305</th>\n",
       "      <td>Female</td>\n",
       "      <td>0</td>\n",
       "      <td>Third</td>\n",
       "    </tr>\n",
       "    <tr>\n",
       "      <th>1306</th>\n",
       "      <td>Male</td>\n",
       "      <td>0</td>\n",
       "      <td>Third</td>\n",
       "    </tr>\n",
       "    <tr>\n",
       "      <th>1307</th>\n",
       "      <td>Male</td>\n",
       "      <td>0</td>\n",
       "      <td>Third</td>\n",
       "    </tr>\n",
       "    <tr>\n",
       "      <th>1308</th>\n",
       "      <td>Male</td>\n",
       "      <td>0</td>\n",
       "      <td>Third</td>\n",
       "    </tr>\n",
       "  </tbody>\n",
       "</table>\n",
       "<p>1309 rows × 3 columns</p>\n",
       "</div>"
      ],
      "text/plain": [
       "         Sex  Survived Passenger Class\n",
       "0     Female         1           First\n",
       "1       Male         1           First\n",
       "2     Female         0           First\n",
       "3       Male         0           First\n",
       "4     Female         0           First\n",
       "...      ...       ...             ...\n",
       "1304  Female         0           Third\n",
       "1305  Female         0           Third\n",
       "1306    Male         0           Third\n",
       "1307    Male         0           Third\n",
       "1308    Male         0           Third\n",
       "\n",
       "[1309 rows x 3 columns]"
      ]
     },
     "execution_count": 4,
     "metadata": {},
     "output_type": "execute_result"
    }
   ],
   "source": [
    "columns_needed = [\"Sex\",\"Survived\", \"Passenger Class\"]\n",
    "\n",
    "bar_plot_df = titanic_df[columns_needed]\n",
    "bar_plot_df[\"Survived\"] =bar_plot_df[\"Survived\"].map({'Yes': 1, 'No': 0})\n",
    "\n",
    "bar_plot_df"
   ]
  },
  {
   "cell_type": "markdown",
   "id": "8432d774",
   "metadata": {},
   "source": [
    "# Create the graph for the barplot"
   ]
  },
  {
   "cell_type": "code",
   "execution_count": 5,
   "id": "42972439",
   "metadata": {},
   "outputs": [
    {
     "data": {
      "image/png": "[encoded data removed]",
      "text/plain": [
       "<Figure size 1000x1000 with 1 Axes>"
      ]
     },
     "metadata": {},
     "output_type": "display_data"
    }
   ],
   "source": [
    "plt.figure(figsize=(10,10))\n",
    "sns.barplot(x=\"Sex\", y=\"Survived\", hue=\"Passenger Class\", data=bar_plot_df)\n",
    "plt.show()"
   ]
  }
 ],
 "metadata": {
  "kernelspec": {
   "display_name": "Python 3 (ipykernel)",
   "language": "python",
   "name": "python3"
  },
  "language_info": {
   "codemirror_mode": {
    "name": "ipython",
    "version": 3
   },
   "file_extension": ".py",
   "mimetype": "text/x-python",
   "name": "python",
   "nbconvert_exporter": "python",
   "pygments_lexer": "ipython3",
   "version": "3.9.16"
  }
 },
 "nbformat": 4,
 "nbformat_minor": 5
}
