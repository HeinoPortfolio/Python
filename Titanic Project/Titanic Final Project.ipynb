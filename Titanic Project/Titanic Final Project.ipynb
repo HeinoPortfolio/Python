{
 "cells": [
  {
   "cell_type": "markdown",
   "metadata": {},
   "source": [
    "# IS 362 Final Project \n",
    "\n",
    "In this final project I seek to utilize the concepts that were presented in class.  I will make use of the the Titanic data set.  The Titanic Data set can be found here: [Titanic Dataset](http://biostat.mc.vanderbilt.edu/wiki/Main/DataSets).  This dataset was taken from Vanderbuilt University's Department of Biostatisitcs.  \n",
    "\n",
    "The project seeks to work through various stats about the Titanic passengers.  It will show the distribution of the passengers among classes and a few other areas like the average age of the passngers broken down by class.  This will lead to a model being created to try to predict whether a passenger was going to survice based on a few criteria.  Then a conclusion will be made to see if this is a feasible way to predict the survivabilty of the passenger.  \n",
    "\n",
    "## A Few Simple Statistics About the passengers\n",
    "\n",
    "How many passengers were recorded on the ship's passenger list?  The cod below does this simply."
   ]
  },
  {
   "cell_type": "code",
   "execution_count": 147,
   "metadata": {},
   "outputs": [
    {
     "name": "stdout",
     "output_type": "stream",
     "text": [
      "1309\n"
     ]
    }
   ],
   "source": [
    "import pandas as pd \n",
    "import numpy as np\n",
    "import matplotlib.pyplot as plt\n",
    "import requests as req\n",
    "import re\n",
    "from sklearn.preprocessing import LabelEncoder\n",
    "from sklearn.neighbors import KNeighborsClassifier\n",
    "from sklearn.model_selection import train_test_split\n",
    "from sklearn.linear_model import LogisticRegression\n",
    "from sklearn import metrics\n",
    "import warnings\n",
    "\n",
    "pd.set_option('display.max_columns', None)\n",
    "pd.set_option('display.max_colwidth', 40)\n",
    "pd.set_option('display.width', 2100)\n",
    "warnings.filterwarnings('ignore')\n",
    "\n",
    "filepath_titanic = 'titanic3.csv'  # path to the CSV containing the Titanic data\n",
    "\n",
    "#Read the data into a dataframe\n",
    "titanic_frame = pd.read_csv(filepath_titanic, sep=',')\n",
    "\n",
    "print (len(titanic_frame))\n",
    "\n"
   ]
  },
  {
   "cell_type": "markdown",
   "metadata": {},
   "source": [
    "The number 1309 represents the number of passengers that are currently in the CSV.  We need to keep this in mind as we work through this project.  All calcuations need to add up to this number where relavent.  Let's look at the distribtuion of males and females in general.  The code below will display the break-up of the sexes that were passengers on the Titanic."
   ]
  },
  {
   "cell_type": "code",
   "execution_count": 148,
   "metadata": {},
   "outputs": [
    {
     "name": "stdout",
     "output_type": "stream",
     "text": [
      "sex\n",
      "female    466\n",
      "male      843\n",
      "dtype: int64\n"
     ]
    }
   ],
   "source": [
    "men_women = titanic_frame.groupby('sex').size()\n",
    "print (men_women)"
   ]
  },
  {
   "cell_type": "markdown",
   "metadata": {},
   "source": [
    "If we add these numbers we get the right answer for the total number entries that are on the CSV.  A graph of the passengers on the Titanic can be seen below."
   ]
  },
  {
   "cell_type": "code",
   "execution_count": 149,
   "metadata": {},
   "outputs": [
    {
     "name": "stdout",
     "output_type": "stream",
     "text": [
      "AxesSubplot(0.125,0.125;0.775x0.755)\n"
     ]
    },
    {
     "data": {
      "image/png": "[encoded data removed]",
      "text/plain": [
       "<Figure size 432x288 with 1 Axes>"
      ]
     },
     "metadata": {
      "needs_background": "light"
     },
     "output_type": "display_data"
    }
   ],
   "source": [
    "print(men_women.plot.bar())"
   ]
  },
  {
   "cell_type": "markdown",
   "metadata": {},
   "source": [
    "As we can see that there are considerably more men as passengers of the Titanic.  We can even look at the distribution of the passengers based on the classes that were on the Titanic. \n",
    "\n",
    "### The Distribution of the Sexes Among Titanic Passengers\n",
    "\n",
    "The passengers were broken up among three basic classes: First (1), Second (2) and Third (3).  To see how the classes were broken up based on a passengers sex we can use the following code that produces a graph and some simple analysis."
   ]
  },
  {
   "cell_type": "code",
   "execution_count": 150,
   "metadata": {},
   "outputs": [
    {
     "name": "stdout",
     "output_type": "stream",
     "text": [
      "pclass  sex   \n",
      "1       female    144\n",
      "        male      179\n",
      "2       female    106\n",
      "        male      171\n",
      "3       female    216\n",
      "        male      493\n",
      "dtype: int64\n"
     ]
    }
   ],
   "source": [
    "men_women_by_class = titanic_frame.groupby(['pclass', 'sex']).size()\n",
    "print (men_women_by_class)"
   ]
  },
  {
   "cell_type": "markdown",
   "metadata": {},
   "source": [
    "A graph that helps illustrate how the sexes are distributed among the passenger classes is accomplished with the following code.  "
   ]
  },
  {
   "cell_type": "code",
   "execution_count": 151,
   "metadata": {},
   "outputs": [
    {
     "name": "stdout",
     "output_type": "stream",
     "text": [
      "AxesSubplot(0.125,0.125;0.775x0.755)\n"
     ]
    },
    {
     "data": {
      "image/png": "[encoded data removed]",
      "text/plain": [
       "<Figure size 432x288 with 1 Axes>"
      ]
     },
     "metadata": {
      "needs_background": "light"
     },
     "output_type": "display_data"
    }
   ],
   "source": [
    "men_women_class = titanic_frame.groupby(['pclass','sex'])['sex'].agg(np.size)\n",
    "\n",
    "print (men_women_class.unstack().plot.bar())"
   ]
  },
  {
   "cell_type": "markdown",
   "metadata": {},
   "source": [
    "Now that we have found out about the distibution of the sexes of the passengers among the various passenger classes.  Can we find out some more statistics about the passengers.  How about what is the average age of the passengers.  \n",
    "\n",
    "### What is the average age of the passengers?\n",
    "\n",
    "The average age of a passenger on the Titanic was:"
   ]
  },
  {
   "cell_type": "code",
   "execution_count": 152,
   "metadata": {},
   "outputs": [
    {
     "name": "stdout",
     "output_type": "stream",
     "text": [
      "sex\n",
      "female    28.687088\n",
      "male      30.585228\n",
      "Name: age, dtype: float64\n"
     ]
    }
   ],
   "source": [
    "print(titanic_frame.groupby('sex').age.mean()) "
   ]
  },
  {
   "cell_type": "markdown",
   "metadata": {},
   "source": [
    "Applying the same technique that we used above we can get the average age from each class.  In the output that is given we can see that the first class passengers have the higher overall age.  This is not that surprising since most in the first class suites are well into their careers and need to have the means to afford the accommadations."
   ]
  },
  {
   "cell_type": "code",
   "execution_count": 153,
   "metadata": {},
   "outputs": [
    {
     "name": "stdout",
     "output_type": "stream",
     "text": [
      "pclass\n",
      "1    39.159930\n",
      "2    29.506705\n",
      "3    24.816367\n",
      "Name: age, dtype: float64\n"
     ]
    }
   ],
   "source": [
    "#Average age by class\n",
    "print(titanic_frame.groupby('pclass').age.mean())  \n"
   ]
  },
  {
   "cell_type": "markdown",
   "metadata": {},
   "source": [
    "### Can we find the indivual(s) who are the youngest?\n",
    "\n",
    "In this section I will seek to find the youngest passenger on the Titanic.  More than likely it will be an infant since based on personal knowledge there were a lot of children and infants on the Titanic."
   ]
  },
  {
   "cell_type": "code",
   "execution_count": 154,
   "metadata": {},
   "outputs": [
    {
     "name": "stdout",
     "output_type": "stream",
     "text": [
      "     pclass                                     name   age\n",
      "763       3  Dean, Miss. Elizabeth Gladys \"Millvina\"  0.17\n"
     ]
    }
   ],
   "source": [
    "#Finding the youngest passenger on the Titanic\n",
    "youngest_passenger = titanic_frame[titanic_frame.age == titanic_frame.age.min()]\n",
    "print (youngest_passenger[['pclass', 'name', 'age']])"
   ]
  },
  {
   "cell_type": "markdown",
   "metadata": {},
   "source": [
    "As you can see by the output the age of the individual is an infant. Who is the oldest passenger on the Titanic?\n",
    "\n",
    "### Can we find the oldest passenger on the Titanic?\n",
    "\n",
    "Using the same approach for finding the youngest passenger we can find the oldest passenger on the Titanic. We just need to repalce the ```min()``` with ```max()``` to get the name of the oldest."
   ]
  },
  {
   "cell_type": "code",
   "execution_count": 155,
   "metadata": {},
   "outputs": [
    {
     "name": "stdout",
     "output_type": "stream",
     "text": [
      "    pclass                                  name   age\n",
      "14       1  Barkworth, Mr. Algernon Henry Wilson  80.0\n"
     ]
    }
   ],
   "source": [
    "oldest_passenger = titanic_frame[titanic_frame.age == titanic_frame.age.max()]\n",
    "print (oldest_passenger[['pclass', 'name', 'age']])"
   ]
  },
  {
   "cell_type": "markdown",
   "metadata": {},
   "source": [
    "### Is there any information about these passengers?\n",
    "\n",
    "We will use the NYTimes API to look for information on these two passengers.  First, we will try to find information on the youngest passenger.  I have created a method that will need to be called at least two times"
   ]
  },
  {
   "cell_type": "code",
   "execution_count": 156,
   "metadata": {},
   "outputs": [
    {
     "name": "stdout",
     "output_type": "stream",
     "text": [
      "Miss. Elizabeth Gladys \"Millvina\" Dean\n"
     ]
    }
   ],
   "source": [
    "def find_articles(name):\n",
    "    \n",
    "    url = (\"https://api.nytimes.com/svc/search/v2/articlesearch.json?q=\"+name+\"&begin_date=19120301&end_date=19120630&api-key=Xfga4BEJz505L3gPiEaxroTrACqCfDDy\")\n",
    "    result = req.get(url)\n",
    "    articles = result.json()\n",
    "\n",
    "    if len(articles['response']['docs']) != 0:\n",
    "        web_url_lst = []\n",
    "        snippet_lst = []\n",
    "        headline_lst = []\n",
    "        byline_lst = []\n",
    "        for x in articles['response']['docs']:\n",
    "            web_url_lst.append(x['web_url'])\n",
    "            snippet_lst.append(x['snippet'])\n",
    "            headline_lst.append(x['headline']['main'])\n",
    "            byline_lst.append(x['byline']['original']) \n",
    "        # create the dataframe\n",
    "        data_dict = {'Web URL': web_url_lst, 'Snippet': snippet_lst, 'Headline': headline_lst,  'Byline': byline_lst}\n",
    "        article_frame = pd.DataFrame(data_dict)\n",
    "        print (article_frame)\n",
    "    else:\n",
    "        print (\"No articles found for \" + name + \"******\")   \n",
    " \n",
    "def extract_name(name):\n",
    "    \n",
    "    name = name.split(',')\n",
    "    last_name = re.split('[0-9]+', name[0])[1].strip()\n",
    "    first_name = name[1].split(\"\\n\")[0].strip()\n",
    "    #Rebuild the name\n",
    "    full_name = first_name + \" \" + last_name\n",
    "    \n",
    "    return full_name\n",
    "\n",
    "\n",
    "        \n",
    "\n",
    "# fiding information about the Titanic passengers.\n",
    "name = str(youngest_passenger['name'])\n",
    "\n",
    "# Convert to a string\n",
    "young_name = str(youngest_passenger['name'])\n",
    "\n",
    "#Extract the name\n",
    "full_name = extract_name(young_name)\n",
    "\n",
    "print (full_name)"
   ]
  },
  {
   "cell_type": "code",
   "execution_count": 157,
   "metadata": {},
   "outputs": [
    {
     "name": "stdout",
     "output_type": "stream",
     "text": [
      "No articles found for Miss. Elizabeth Gladys \"Millvina\" Dean******\n"
     ]
    }
   ],
   "source": [
    "find_articles(full_name)"
   ]
  },
  {
   "cell_type": "markdown",
   "metadata": {},
   "source": [
    "According to this query there were no results in the NY Times archives for this passenger.  We will look for articles on the oldest passenger in this passenger list.  We will look for Barkworth, Mr. Algernon Henry Wilson."
   ]
  },
  {
   "cell_type": "code",
   "execution_count": 158,
   "metadata": {},
   "outputs": [
    {
     "name": "stdout",
     "output_type": "stream",
     "text": [
      "No articles found for Mr. Algernon Henry Wilson Barkworth******\n"
     ]
    }
   ],
   "source": [
    "old_name = str(oldest_passenger['name'])\n",
    "\n",
    "#Extract the name\n",
    "full_name = extract_name(old_name)\n",
    "\n",
    "find_articles(full_name)"
   ]
  },
  {
   "cell_type": "markdown",
   "metadata": {},
   "source": [
    "Let's just check to see if the query is working.  I will look for an individual that was probably in the news that  and would have articles about him.  We will look for John Jacob Astor.  THe results of the query are:"
   ]
  },
  {
   "cell_type": "code",
   "execution_count": 159,
   "metadata": {},
   "outputs": [
    {
     "name": "stdout",
     "output_type": "stream",
     "text": [
      "                                   Web URL                                  Snippet                                 Headline Byline\n",
      "0  https://www.nytimes.com/1912/04/21/a...                   lr in tribute to Astor                 John Jacob Astor's Deed.      H\n",
      "1  https://www.nytimes.com/1912/06/24/a...  Rev C F Reisner asks Vincent to give...  ASKS VINCENT ASTOR TO GIVE CITY PARK...   None\n",
      "2  https://www.nytimes.com/1912/06/16/a...  Lusitania arrival in NYC delayed 1 d...  A DISABLED TURBINE DELAYS LUSITANIA;...   None\n",
      "3  https://www.nytimes.com/1912/06/01/a...  Capt Rostron of Carpathia and ship D...  CAPT. ROSTRON GUEST OF MRS. J.J. AST...   None\n",
      "4  https://www.nytimes.com/1912/05/23/a...  will admitted to probate, NYC; 1st M...  ADMITS ASTOR WILL; CONTEST IS POSSIB...   None\n",
      "5  https://www.nytimes.com/1912/05/18/a...  guardians qualify, Surrogates Ct hea...  ASTOR GUARDIANS QUALIFY.; Justice Gi...   None\n",
      "6  https://www.nytimes.com/1912/05/17/a...  son and widow name own guardians; wi...  NO CONTEST FILED OVER ASTOR WILL; Vi...   None\n",
      "7  https://www.nytimes.com/1912/05/14/a...  ct appts A P Osborn special guardian...  SPECIAL GUARDIAN FOR MURIEL ASTOR; S...   None\n",
      "8  https://www.nytimes.com/1912/05/11/a...  W H Force, widow's father, says he k...  MR. FORCE KNOWS OF NO ASTOR WILL FIG...   None\n",
      "9  https://www.nytimes.com/1912/05/08/a...  Surrogate Cohalan comments on clause...  YOUNG ASTOR'S LANDS WORTH $150,000,0...   None\n"
     ]
    }
   ],
   "source": [
    "find_articles(\"John Jacob Astor\")"
   ]
  },
  {
   "cell_type": "markdown",
   "metadata": {},
   "source": [
    "As expected the query worked and returned some articles about John Jacob Astor. \n",
    "\n",
    "Next, we will see some statistics about who lived and those who did not.\n",
    "\n",
    "## Statisitics on those who survived and those who did not.\n",
    "\n",
    "We will look at the total number of passengers that survived and those who did not.  The bar chart below shows the total of those who survived based on sex.  "
   ]
  },
  {
   "cell_type": "code",
   "execution_count": 160,
   "metadata": {},
   "outputs": [
    {
     "name": "stdout",
     "output_type": "stream",
     "text": [
      "survived\n",
      "No     809\n",
      "Yes    500\n",
      "dtype: int64\n",
      "AxesSubplot(0.125,0.125;0.775x0.755)\n"
     ]
    },
    {
     "data": {
      "image/png": "[encoded data removed]",
      "text/plain": [
       "<Figure size 432x288 with 1 Axes>"
      ]
     },
     "metadata": {
      "needs_background": "light"
     },
     "output_type": "display_data"
    }
   ],
   "source": [
    "titanic_frame_calc = titanic_frame[['pclass', 'survived', 'sex','age']]\n",
    "titanic_frame_calc['survived'] = titanic_frame_calc['survived'].map({1: 'Yes', 0: 'No'})\n",
    "men_women_survive = titanic_frame_calc.groupby('survived').size()\n",
    "\n",
    "print (men_women_survive)\n",
    "print(men_women_survive.plot.bar())"
   ]
  },
  {
   "cell_type": "markdown",
   "metadata": {},
   "source": [
    "As to be expected the number of passengers exceeds the number of those who survived.  We can also look at the age of the passengers across the different classes.  The code is shown below both with the test output and a graph of the output."
   ]
  },
  {
   "cell_type": "code",
   "execution_count": 161,
   "metadata": {},
   "outputs": [
    {
     "name": "stdout",
     "output_type": "stream",
     "text": [
      "sex     pclass  survived\n",
      "female  First   No          35.200000\n",
      "                Yes         37.109375\n",
      "        Second  No          34.090909\n",
      "                Yes         26.711087\n",
      "        Third   No          23.418750\n",
      "                Yes         20.814861\n",
      "male    First   No          43.658163\n",
      "                Yes         36.168302\n",
      "        Second  No          33.092593\n",
      "                Yes         17.449130\n",
      "        Third   No          26.679586\n",
      "                Yes         22.436441\n",
      "Name: age, dtype: float64\n",
      "AxesSubplot(0.125,0.125;0.775x0.755)\n"
     ]
    },
    {
     "data": {
      "image/png": "[encoded data removed]",
      "text/plain": [
       "<Figure size 432x288 with 1 Axes>"
      ]
     },
     "metadata": {
      "needs_background": "light"
     },
     "output_type": "display_data"
    }
   ],
   "source": [
    "#find the average age\n",
    "\n",
    "titanic_frame_calc['pclass'] = titanic_frame_calc['pclass'].map({1: 'First', 2: 'Second', 3: 'Third'})\n",
    "print(titanic_frame_calc.groupby(['sex', 'pclass', 'survived']).age.mean())\n",
    "\n",
    "#Create a bar graph.\n",
    "print (titanic_frame_calc.groupby(['sex', 'pclass', 'survived']).age.mean().unstack().plot.bar())"
   ]
  },
  {
   "cell_type": "markdown",
   "metadata": {},
   "source": [
    "## Make a prediction on a few terms.\n",
    "\n",
    "In this section we will look at whether the class you were is a good prediction of whether you were going to survive.  The code to accomplish that is shown below."
   ]
  },
  {
   "cell_type": "code",
   "execution_count": 162,
   "metadata": {},
   "outputs": [
    {
     "name": "stdout",
     "output_type": "stream",
     "text": [
      "Using Kneighbors:0.6967150496562261\n",
      "Using Kneighbors:0.6600458365164248\n",
      "Using Logistic regression: 0.5637891520244461\n"
     ]
    }
   ],
   "source": [
    "lbl_enc = LabelEncoder()\n",
    "\n",
    "for col in titanic_frame_calc.columns:\n",
    "    #Encode the columns with numerics\n",
    "    titanic_frame_calc[col] = lbl_enc.fit_transform(titanic_frame_calc[col])\n",
    "    \n",
    "titanic_dummies_frame = pd.get_dummies(titanic_frame_calc)\n",
    "\n",
    "feature_cols = ['survived','sex','age']\n",
    "\n",
    "X = titanic_dummies_frame[feature_cols] \n",
    "\n",
    "# Create a subset of the Mush_dummies dataframe for respones\n",
    "y = titanic_dummies_frame['pclass']\n",
    "\n",
    "# Instantiate .\n",
    "knn_titan = KNeighborsClassifier(n_neighbors=1)\n",
    "knn_titan.fit(X, y)\n",
    "test2 = knn_titan.predict(X)\n",
    "print (\"Using Kneighbors:\" + str(metrics.accuracy_score(y, test2)))\n",
    "\n",
    "knn_titan = KNeighborsClassifier(n_neighbors=10)\n",
    "knn_titan.fit(X, y)\n",
    "test = knn_titan.predict(X)\n",
    "print (\"Using Kneighbors:\" + str(metrics.accuracy_score(y, test)))\n",
    "\n",
    "#Using a logistic regression\n",
    "logreg_titan = LogisticRegression()\n",
    "logreg_titan.fit(X,y)\n",
    "\n",
    "y_pred = logreg_titan.predict(X)\n",
    "\n",
    "#Classification Accuracy\n",
    "print (\"Using Logistic regression: \" + str(metrics.accuracy_score(y, y_pred)))"
   ]
  },
  {
   "cell_type": "markdown",
   "metadata": {},
   "source": [
    "Given this outcome you have a slightly better than average chance of predicting whether or not a given passenger will survive.  If we look at a group that was know to have a higher incidence of survival we should see a greater likelihood of selecting a survivor based on sex.  We will look at sex as a predictor."
   ]
  },
  {
   "cell_type": "code",
   "execution_count": 163,
   "metadata": {},
   "outputs": [
    {
     "name": "stdout",
     "output_type": "stream",
     "text": [
      "Using Kneighbors:0.8074866310160428\n",
      "Using Kneighbors:0.7708174178762414\n",
      "Using Logistic regression: 0.7799847211611918\n"
     ]
    }
   ],
   "source": [
    "# Using sex as a predictor\n",
    "feature_cols = ['survived','pclass','age']\n",
    "\n",
    "X = titanic_dummies_frame[feature_cols] \n",
    "\n",
    "# Create a subset of the Mush_dummies dataframe for respones\n",
    "y = titanic_dummies_frame['sex']\n",
    "\n",
    "# Instantiate .\n",
    "knn_titan = KNeighborsClassifier(n_neighbors=1)\n",
    "knn_titan.fit(X, y)\n",
    "test2 = knn_titan.predict(X)\n",
    "print (\"Using Kneighbors:\" + str(metrics.accuracy_score(y, test2)))\n",
    "\n",
    "knn_titan = KNeighborsClassifier(n_neighbors=10)\n",
    "knn_titan.fit(X, y)\n",
    "test = knn_titan.predict(X)\n",
    "print (\"Using Kneighbors:\" + str(metrics.accuracy_score(y, test)))\n",
    "\n",
    "#Using a logistic regression\n",
    "logreg_titan = LogisticRegression()\n",
    "logreg_titan.fit(X,y)\n",
    "\n",
    "y_pred = logreg_titan.predict(X)\n",
    "\n",
    "#Classification Accuracy\n",
    "print (\"Using Logistic regression: \" + str(metrics.accuracy_score(y, y_pred)))\n"
   ]
  },
  {
   "cell_type": "markdown",
   "metadata": {},
   "source": [
    "## Conclusion\n",
    "\n",
    "During the course of this project we were able to derive some vital statistics about the passengers of the Titanic.  We can see that the overall composition of the passengers were male given in the figure psted earlier in the notebook.  We can see that the oldest overall age was found in first class. And we were able to prove through analysis that the majority of Titanic passengers did not survive.  This is in keeping with what is actually known.  \n",
    "\n",
    "When it comes to making predictions using passenger was only slightly better than average at predicting whether a passenger was to survive.  Based on what I know about Titanic it was said that the first class passengers were able to board long before any other classes.\n",
    "\n",
    "When using predictions using sex as a predictor of the outcome of survival it offered a slightly better rate of actually getting the right answer.  Which is probably correct.  Based on the rules of loading lifeboats, women and children were the first to load the boats.  Thus ensuring that females were more likely to be saved.\n",
    "\n",
    "This was a interesting project to pursue. There are other avenues to pursue in analyzing this data set. For example, we can look at the distribution using a scatterplot. "
   ]
  }
 ],
 "metadata": {
  "kernelspec": {
   "display_name": "Python 3",
   "language": "python",
   "name": "python3"
  },
  "language_info": {
   "codemirror_mode": {
    "name": "ipython",
    "version": 3
   },
   "file_extension": ".py",
   "mimetype": "text/x-python",
   "name": "python",
   "nbconvert_exporter": "python",
   "pygments_lexer": "ipython3",
   "version": "3.7.3"
  }
 },
 "nbformat": 4,
 "nbformat_minor": 2
}
