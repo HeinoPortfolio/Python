{
 "cells": [
  {
   "cell_type": "markdown",
   "metadata": {},
   "source": [
    "# Airport"
   ]
  },
  {
   "cell_type": "markdown",
   "metadata": {},
   "source": [
    "## Introduction \n",
    "\n",
    "In this assignment we are to answer three questions posed in the assignment description.  The questions we are to answer are the following:  \n",
    "\n",
    "1. What is the northernmost airport in the United States?\n",
    "2. What is the easternmost airport in the United States?\n",
    "3. On February 12th, 2013, which New York area airport had the windiest weather?\n",
    "\n",
    "The data to complete the assignment came from the following GitHub repository (https://github.com/hadley/nycflights13/tree/master/data-raw)\n",
    "\n",
    "In the assignment description it was sugggested to output the 5 top values after the analysis is given.  A few other things to keep in mind is how the measurments are taken. The data should be consistent and no errors exist in the data file that is provided. "
   ]
  },
  {
   "cell_type": "markdown",
   "metadata": {},
   "source": [
    "### Preparation of the data for airport questions of northernmost and eastern most airports.\n",
    "\n",
    "The first thing that we need to do is to read the data from the airports.csv file into a frame.  Reading it into a frame will make it easier to find the largest values for the given questions.  The code to read the data into the file is shown below."
   ]
  },
  {
   "cell_type": "code",
   "execution_count": 17,
   "metadata": {},
   "outputs": [
    {
     "name": "stdout",
     "output_type": "stream",
     "text": [
      "   faa                           name        lat        lon   alt   tz dst  \\\n",
      "0  04G              Lansdowne Airport  41.130472 -80.619583  1044 -5.0   A   \n",
      "1  06A  Moton Field Municipal Airport  32.460572 -85.680028   264 -6.0   A   \n",
      "2  06C            Schaumburg Regional  41.989341 -88.101243   801 -6.0   A   \n",
      "3  06N                Randall Airport  41.431912 -74.391561   523 -5.0   A   \n",
      "4  09J          Jekyll Island Airport  31.074472 -81.427778    11 -5.0   A   \n",
      "\n",
      "              tzone  \n",
      "0  America/New_York  \n",
      "1   America/Chicago  \n",
      "2   America/Chicago  \n",
      "3  America/New_York  \n",
      "4  America/New_York  \n"
     ]
    }
   ],
   "source": [
    "import pandas as pd\n",
    "import geopandas as gp\n",
    "import matplotlib.pyplot as plt\n",
    "\n",
    "filepath_airports = 'airports.csv'\n",
    "\n",
    "pd.set_option('display.max_columns', None)\n",
    "\n",
    "# Create the airports data frame\n",
    "airport_frame = pd.read_csv(filepath_airports, sep=\",\")\n",
    "\n",
    "print(airport_frame.head())"
   ]
  },
  {
   "cell_type": "markdown",
   "metadata": {},
   "source": [
    "As a check to make sure the data has been read into the frame the first five rows have been outputted.  The next step to perform is to find the northernmost airport."
   ]
  },
  {
   "cell_type": "markdown",
   "metadata": {},
   "source": [
    "### What is the northernmost airport in the United States ?\n",
    "\n",
    "In order to determine which airport is the norternmost in the United States we need to understand how the lattitude and longitude work.  In lattitude the measurment are either postive or negative based on whether or not the postions lie north or south of the equator.  Since the airports that we are looking for all reside north of the equator.  We will be looking for the largest value found in the lattitude of the column of the frame. In order to find the norternmost airport we can use a method that is found in the pandas library.  This function is ```.nlargest```.  With this function you can easily find the largest value of the frame within a given column. The code to accomplish this is shown below.  I have outputted the first five rows of the result to comply with the assignment suggestion.\n"
   ]
  },
  {
   "cell_type": "code",
   "execution_count": 18,
   "metadata": {},
   "outputs": [
    {
     "name": "stdout",
     "output_type": "stream",
     "text": [
      "     faa                                        name        lat         lon  \\\n",
      "417  EEN                     Dillant Hopkins Airport  72.270833   42.898333   \n",
      "230  BRW                  Wiley Post Will Rogers Mem  71.285446 -156.766003   \n",
      "110  AIN                          Wainwright Airport  70.638056 -159.994722   \n",
      "708  K03                               Wainwright As  70.613378 -159.860350   \n",
      "152  ATK  Atqasuk Edward Burnell Sr Memorial Airport  70.467300 -157.436000   \n",
      "\n",
      "     alt   tz dst              tzone  \n",
      "417  149 -5.0   A                 \\N  \n",
      "230   44 -9.0   A  America/Anchorage  \n",
      "110   41 -9.0   A  America/Anchorage  \n",
      "708   35 -9.0   A  America/Anchorage  \n",
      "152   96 -9.0   A  America/Anchorage  \n"
     ]
    }
   ],
   "source": [
    "#Find the northernmost airport \n",
    "northernmost_frame = airport_frame.nlargest(5, \"lat\")\n",
    "print(northernmost_frame)"
   ]
  },
  {
   "cell_type": "markdown",
   "metadata": {},
   "source": [
    "Analysis of the output of the shows that Dillant Hopkins Airport is the northernmost airport.  Upon further inspection this is not true.  Using [Airnav.com](https://www.airnav.com/airport/KEEN) and entering the airport code EEN. I was able to retrieve the lattitude and the longitude.  The values given in the supplied file are incorrect the lattitude and longitude are the following: 42.8983889,-72.2707778.  The lattitude is given as 42.8983889 on the site and in the file it is 72.270833.  The coordinates given and location place it in Keene, NH.  \n",
    "The next candidate is Wiley Post Will Rogers Memorial.  Using the same site [Airnav.com](https://www.airnav.com/airport/PABR) we can confirm that this airport's information is correct. So the answer is **Wiley Post Will Rogers Memorial Airport**. "
   ]
  },
  {
   "cell_type": "markdown",
   "metadata": {},
   "source": [
    "### What is the easternmost airport in the United States?\n",
    "\n",
    "In determining the answer to this question we need to look at how longitude is done in this file.  THe measurements are taken from the Prime Meridian.  We lie to the west of the Prime Meridian so out values would be in the negative range.  We can assume that we will reference the east coast of the United States as the starting point for us.  To get the value of the easternmost we can use similar code to the first question.  The code is given below\n"
   ]
  },
  {
   "cell_type": "code",
   "execution_count": 19,
   "metadata": {},
   "outputs": [
    {
     "name": "stdout",
     "output_type": "stream",
     "text": [
      "      faa                                 name        lat         lon   alt  \\\n",
      "1290  SYA                         Eareckson As  52.712275  174.113620    98   \n",
      "942   MYF                     Montgomery Field  32.475900  117.759000    17   \n",
      "396   DVT        Deer Valley Municipal Airport  33.411700  112.457000  1478   \n",
      "417   EEN              Dillant Hopkins Airport  72.270833   42.898333   149   \n",
      "444   EPM           Eastport Municipal Airport  44.910111  -67.012694    45   \n",
      "624   HUL                         Houlton Intl  46.123083  -67.792056   489   \n",
      "259   CAR                         Caribou Muni  46.871500  -68.017917   626   \n",
      "1101  PQI  Northern Maine Rgnl At Presque Isle  46.688958  -68.044797   534   \n",
      "1398  WFK  Northern Aroostook Regional Airport  47.285556  -68.312778   988   \n",
      "192   BHB          Hancock County - Bar Harbor  44.449769  -68.361565    83   \n",
      "\n",
      "       tz dst              tzone  \n",
      "1290 -9.0   A  America/Anchorage  \n",
      "942   8.0   A     Asia/Chongqing  \n",
      "396   8.0   A     Asia/Chongqing  \n",
      "417  -5.0   A                 \\N  \n",
      "444  -5.0   A   America/New_York  \n",
      "624  -5.0   A   America/New_York  \n",
      "259  -5.0   A   America/New_York  \n",
      "1101 -5.0   A   America/New_York  \n",
      "1398 -5.0   A   America/New_York  \n",
      "192  -5.0   A   America/New_York  \n"
     ]
    }
   ],
   "source": [
    "#Find the easternmost airport in the United States\n",
    "easternmost_frame = airport_frame.nlargest(10, \"lon\")\n",
    "print (easternmost_frame)\n"
   ]
  },
  {
   "cell_type": "markdown",
   "metadata": {},
   "source": [
    "There are a few airports that could be in contention for the easternmost airport.  If we define the east cost as the starting point of the Uited States the answer would be **Eastport Municipal Airport** but if we measure from the Meridan than we need to look into airports that are in Alaska. So **Eareckson Air Station** would be a potential candidtate.  The true answer lies in how to interpret the easternmost relative to point of measure."
   ]
  },
  {
   "cell_type": "markdown",
   "metadata": {},
   "source": [
    "###  On February 12th, 2013, which New York area airport had the windiest weather?\n",
    "\n",
    "In this question we are to look for the windiest airport in the New York area.  In order to do this wee need to look at the weather.csv file which contains this information.  We read the data in the same way for the previous question.  "
   ]
  },
  {
   "cell_type": "code",
   "execution_count": 20,
   "metadata": {
    "scrolled": true
   },
   "outputs": [
    {
     "name": "stdout",
     "output_type": "stream",
     "text": [
      "     origin  year  month  day  hour   temp   dewp  humid  wind_dir  \\\n",
      "1006    EWR  2013      2   12     0  39.92  39.02  96.55     240.0   \n",
      "1007    EWR  2013      2   12     1  39.92  37.94  92.56     250.0   \n",
      "1008    EWR  2013      2   12     2  39.92  28.04  62.21     270.0   \n",
      "1009    EWR  2013      2   12     3  39.02  26.96  61.63     260.0   \n",
      "1010    EWR  2013      2   12     4  39.02  26.96  64.29     280.0   \n",
      "\n",
      "      wind_speed  wind_gust  precip  pressure  visib             time_hour  \n",
      "1006     6.90468        NaN     0.0    1006.9   10.0  2013-02-12T05:00:00Z  \n",
      "1007     9.20624        NaN     0.0    1007.2   10.0  2013-02-12T06:00:00Z  \n",
      "1008    20.71404   25.31716     0.0    1007.8   10.0  2013-02-12T07:00:00Z  \n",
      "1009  1048.36058        NaN     0.0    1008.3   10.0  2013-02-12T08:00:00Z  \n",
      "1010    12.65858        NaN     0.0    1008.8   10.0  2013-02-12T09:00:00Z  \n"
     ]
    }
   ],
   "source": [
    "#create a frame to hold the weather data.\n",
    "filepath_weather = 'weather.csv'\n",
    "weather_frame = pd.read_csv(filepath_weather, sep=',')\n",
    "\n",
    "#filter the weather data to get the desired date range\n",
    "weather_feb_12 = weather_frame[(weather_frame['month'] == 2) \n",
    "& (weather_frame['day'] == 12) & (weather_frame['year'] == 2013)]\n",
    "\n",
    "#confirm dataframe was created\n",
    "print(weather_feb_12.head())"
   ]
  },
  {
   "cell_type": "code",
   "execution_count": 21,
   "metadata": {},
   "outputs": [
    {
     "name": "stdout",
     "output_type": "stream",
     "text": [
      "     origin  wind_speed\n",
      "1006    EWR     6.90468\n",
      "1007    EWR     9.20624\n",
      "1008    EWR    20.71404\n",
      "1009    EWR  1048.36058\n",
      "1010    EWR    12.65858\n"
     ]
    }
   ],
   "source": [
    "#clean up the list\n",
    "drop_lst = [1,2,3,4,5,6,7,8] \n",
    "drop_lst2 = [2,3,4,5,6]\n",
    "\n",
    "weather_feb_12.drop(weather_feb_12.columns[drop_lst], axis=1, inplace=True)\n",
    "weather_feb_12.drop(weather_feb_12.columns[drop_lst2], axis=1, inplace=True)\n",
    "\n",
    "#Confirm that the unneeded columns were dropped from the frame\n",
    "print (weather_feb_12.head())\n"
   ]
  },
  {
   "cell_type": "code",
   "execution_count": 22,
   "metadata": {},
   "outputs": [
    {
     "name": "stdout",
     "output_type": "stream",
     "text": [
      "   faa                 name origin  wind_speed\n",
      "0  EWR  Newark Liberty Intl    EWR  1048.36058\n"
     ]
    }
   ],
   "source": [
    "#Find the largest\n",
    "windiest_frame = weather_feb_12.nlargest(1, 'wind_speed')\n",
    "\n",
    "\n",
    "#Clean up the airports froma get rid of unneeded columns\n",
    "air_drop = [2,3,4,5,6,7]\n",
    "air_drop_frame = airport_frame.drop(airport_frame.columns[air_drop], axis=1)\n",
    "\n",
    "\n",
    "#join to get the airport information \n",
    "answer_frame = pd.merge(air_drop_frame, windiest_frame, left_on='faa', right_on='origin')\n",
    "\n",
    "\n",
    "print (answer_frame)"
   ]
  },
  {
   "cell_type": "markdown",
   "metadata": {},
   "source": [
    "Based on the final join the airport that was windiest on February 12, 2013 was Newark Liberty airport.   It had a wind speed of 1048.36058. So the final answer is **Newark Liberty airport**.  If we investigate this information we can infer that the wind_speed is wrong.\n",
    "\n",
    "### Map of Airports in this exercise."
   ]
  },
  {
   "cell_type": "code",
   "execution_count": 23,
   "metadata": {},
   "outputs": [
    {
     "data": {
      "image/png": "[encoded data removed]",
      "text/plain": [
       "<Figure size 432x288 with 1 Axes>"
      ]
     },
     "metadata": {
      "needs_background": "light"
     },
     "output_type": "display_data"
    }
   ],
   "source": [
    "# Create the data frame with airport data\n",
    "airport_data_frame = pd.DataFrame({'Airport':['Wiley Post Will Rodgers Memorial', \n",
    "                                              'Eastport Municipal Airport',\n",
    "                                              'Newark Liberty Airport'],'Latitude':[71.285446, 44.910111, 40.6925 ], 'Longitude': [-156.766003,- 67.012694, -74.168667\n",
    "]}\n",
    "        )\n",
    "\n",
    "geo_air_frame = gp.GeoDataFrame(airport_data_frame, geometry=gp.points_from_xy(airport_data_frame.Longitude, \n",
    "                                                                               airport_data_frame.Latitude))\n",
    "\n",
    "\n",
    "north_america = gp.read_file(gp.datasets.get_path('naturalearth_lowres'))\n",
    "\n",
    "ax = north_america[north_america.continent == 'North America'].plot(color='orange',\n",
    "                  edgecolor='black')\n",
    "\n",
    "geo_air_frame.plot(ax=ax, color='blue')\n",
    "\n",
    "plt.show()\n",
    "\n",
    "\n",
    "\n"
   ]
  },
  {
   "cell_type": "code",
   "execution_count": null,
   "metadata": {},
   "outputs": [],
   "source": []
  }
 ],
 "metadata": {
  "kernelspec": {
   "display_name": "Python 3",
   "language": "python",
   "name": "python3"
  },
  "language_info": {
   "codemirror_mode": {
    "name": "ipython",
    "version": 3
   },
   "file_extension": ".py",
   "mimetype": "text/x-python",
   "name": "python",
   "nbconvert_exporter": "python",
   "pygments_lexer": "ipython3",
   "version": "3.7.3"
  }
 },
 "nbformat": 4,
 "nbformat_minor": 2
}
